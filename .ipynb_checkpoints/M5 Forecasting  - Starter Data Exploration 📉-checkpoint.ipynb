{
 "cells": [
  {
   "cell_type": "markdown",
   "metadata": {},
   "source": [
    "# M5 Forecasting Challenge\n",
    "<img src=\"https://images.ctfassets.net/osv85d77hkdf/7LsZ5bZzvGaG6iwYkoKEUc/84afe0bf84371542fe56e6d5f0b3377b/hero_telescope_01_2x.png\" width=\"500\" height=\"300\" />\n",
    "\n",
    "The goal of this notebook is to give competitors a quick overview of the 2020 M5 competition. After reading it you should have a good idea of the objective you are trying to solve, the data provided and the metrics you will be scored on.\n",
    "\n",
    "Some tl;dr items to note:\n",
    "- There are two parallel competitions: **Accuracy** and **Uncertainty**\n",
    "    - The accuracy competition will use the metric: **Weighted Root Mean Squared Scaled Error** (RMSSE)\n",
    "    - The uncertainty competition will use the metric: **Weighted Scaled Pinball Loss** (WSPL)\n",
    "- We are tasked with forecasting hierarchical sales data from Wal-Mart.\n",
    "- The data, covers stores in three US States (California, Texas, and Wisconsin) and includes item level, department, product categories, and store details.\n",
    "- In addition, it has explanatory variables such as price, promotions, day of the week, and special events."
   ]
  },
  {
   "cell_type": "code",
   "execution_count": null,
   "metadata": {
    "_cell_guid": "b1076dfc-b9ad-4769-8c92-a6c4dae69d19",
    "_uuid": "8f2839f25d086af736a60e9eeb907d3b93b6e0e5"
   },
   "outputs": [],
   "source": [
    "import pandas as pd\n",
    "import numpy as np\n",
    "\n",
    "#Visualization package\n",
    "import matplotlib.pylab as plt\n",
    "import seaborn as sns\n",
    "\n",
    "#Combination\n",
    "from itertools import cycle\n",
    "\n",
    "#Other setting\n",
    "pd.set_option('max_columns', 50)\n",
    "plt.style.use('bmh')\n",
    "color_cycle = cycle(plt.rcParams['axes.prop_cycle'].by_key()['color'])"
   ]
  },
  {
   "cell_type": "code",
   "execution_count": null,
   "metadata": {},
   "outputs": [],
   "source": []
  },
  {
   "cell_type": "markdown",
   "metadata": {
    "_cell_guid": "79c7e3d0-c299-4dcb-8224-4455121ee9b0",
    "_uuid": "d629ff2d2480ee46fbb7e2d37f6b5fab8052498a",
    "collapsed": true
   },
   "source": [
    "# Data Files\n",
    "- `calendar.csv` - Contains information about the dates on which the products are sold.\n",
    "- `sales_train_validation.csv` - Contains the historical daily unit sales data per product and store [d_1 - d_1913]\n",
    "- `sample_submission.csv` - The correct format for submissions. Reference the Evaluation tab for more info.\n",
    "- `sell_prices.csv` - Contains information about the price of the products sold per store and date.\n",
    "\n",
    "Not available yet:\n",
    "- `sales_train_evaluation.csv` - Available one month before competition deadline. Will include sales [d_1 - d_1941]"
   ]
  },
  {
   "cell_type": "code",
   "execution_count": null,
   "metadata": {},
   "outputs": [],
   "source": [
    "!ls -GFlash --color ../input/m5-forecasting-accuracy/"
   ]
  },
  {
   "cell_type": "code",
   "execution_count": null,
   "metadata": {
    "_kg_hide-input": true
   },
   "outputs": [],
   "source": [
    "# Read in the data\n",
    "INPUT_DIR = '../input/m5-forecasting-accuracy'\n",
    "cal = pd.read_csv(f'{INPUT_DIR}/calendar.csv')\n",
    "stv = pd.read_csv(f'{INPUT_DIR}/sales_train_validation.csv')\n",
    "ss = pd.read_csv(f'{INPUT_DIR}/sample_submission.csv')\n",
    "sellp = pd.read_csv(f'{INPUT_DIR}/sell_prices.csv')"
   ]
  },
  {
   "cell_type": "markdown",
   "metadata": {},
   "source": [
    "# What exactly are we trying to predict?\n",
    "We are trying for forecast sales for 28 forecast days. The sample submission has the following format:\n",
    "- The columns represent 28 forecast days. We will fill these forecast days with our predictions.\n",
    "- The rows each represent a specific item. This id tells us the item type, state, and store. We don't know what these items are exactly."
   ]
  },
  {
   "cell_type": "code",
   "execution_count": null,
   "metadata": {},
   "outputs": [],
   "source": [
    "ss.head()"
   ]
  },
  {
   "cell_type": "markdown",
   "metadata": {},
   "source": [
    "We are given historic sales data in the `sales_train_validation` dataset.\n",
    "- rows exist in this dataset for days d_1 to d_1913. We are given the department, category, state, and store id of the item.\n",
    "- d_1914 - d_1941 represents the `validation` rows which we will predict in stage 1\n",
    "- d_1942 - d_1969 represents the `evaluation` rows which we will predict for the final competition standings."
   ]
  },
  {
   "cell_type": "code",
   "execution_count": null,
   "metadata": {},
   "outputs": [],
   "source": [
    "stv.head()"
   ]
  },
  {
   "cell_type": "markdown",
   "metadata": {},
   "source": [
    "# Visualizing the data for a single item\n",
    "- Lets take a random item that sell a lot and see how it's sales look across the training data.\n",
    "- `FOODS_3_090_CA_3_validation` sells a lot\n",
    "- Note there are days where it appears the item is unavailable and sales flatline"
   ]
  },
  {
   "cell_type": "code",
   "execution_count": null,
   "metadata": {
    "_kg_hide-input": true
   },
   "outputs": [],
   "source": [
    "d_cols = [c for c in stv.columns if 'd_' in c] # sales data columns\n",
    "\n",
    "# Below we are chaining the following steps in pandas:\n",
    "# 1. Select the item.\n",
    "# 2. Set the id as the index, Keep only sales data columns\n",
    "# 3. Transform so it's a column\n",
    "# 4. Plot the data\n",
    "stv.loc[stv['id'] == 'FOODS_3_090_CA_3_validation'] \\\n",
    "    .set_index('id')[d_cols] \\\n",
    "    .T \\\n",
    "    .plot(figsize=(15, 5),\n",
    "          title='FOODS_3_090_CA_3 sales by \"d\" number',\n",
    "          color=next(color_cycle))\n",
    "plt.legend('')\n",
    "plt.show()"
   ]
  },
  {
   "cell_type": "markdown",
   "metadata": {},
   "source": [
    "## Merging the data with real dates\n",
    "- We are given a calendar with additional information about past and future dates.\n",
    "- The calendar data can be merged with our days data\n",
    "- From this we can find weekly and annual trends"
   ]
  },
  {
   "cell_type": "code",
   "execution_count": null,
   "metadata": {},
   "outputs": [],
   "source": [
    "# Calendar data looks like this (only showing columns we care about for now)\n",
    "cal[['d','date','event_name_1','event_name_2',\n",
    "     'event_type_1','event_type_2', 'snap_CA']].head()"
   ]
  },
  {
   "cell_type": "code",
   "execution_count": null,
   "metadata": {
    "_kg_hide-input": true
   },
   "outputs": [],
   "source": [
    "# Merge calendar on our items' data\n",
    "example = stv.loc[stv['id'] == 'FOODS_3_090_CA_3_validation'][d_cols].T\n",
    "example = example.rename(columns={8412:'FOODS_3_090_CA_3'}) # Name it correctly\n",
    "example = example.reset_index().rename(columns={'index': 'd'}) # make the index \"d\"\n",
    "example = example.merge(cal, how='left', validate='1:1')\n",
    "example.set_index('date')['FOODS_3_090_CA_3'] \\\n",
    "    .plot(figsize=(15, 5),\n",
    "          color=next(color_cycle),\n",
    "          title='FOODS_3_090_CA_3 sales by actual sale dates')\n",
    "plt.show()"
   ]
  },
  {
   "cell_type": "markdown",
   "metadata": {},
   "source": [
    "# Sales broken down by time variables\n",
    "- Now that we have our example item lets see how it sells by:\n",
    "    - Day of the week\n",
    "    - Month\n",
    "    - Year"
   ]
  },
  {
   "cell_type": "code",
   "execution_count": null,
   "metadata": {
    "_kg_hide-input": true
   },
   "outputs": [],
   "source": [
    "fig, (ax1, ax2, ax3) = plt.subplots(1, 3, figsize=(15, 4))\n",
    "example.groupby('wday').mean()['FOODS_3_090_CA_3'] \\\n",
    "    .plot(kind='line',\n",
    "          title='average sale: day of week',\n",
    "          lw=5,\n",
    "          color=next(\n",
    "              color_cycle),\n",
    "          ax=ax1)\n",
    "example.groupby('month').mean()['FOODS_3_090_CA_3'] \\\n",
    "    .plot(kind='line',\n",
    "          title='average sale: month',\n",
    "          lw=5,\n",
    "          color=next(\n",
    "               color_cycle),\n",
    "\n",
    "          ax=ax2)\n",
    "example.groupby('year').mean()['FOODS_3_090_CA_3'] \\\n",
    "    .plot(kind='line',\n",
    "          lw=5,\n",
    "          title='average sale: year',\n",
    "          color=next(\n",
    "              color_cycle),\n",
    "\n",
    "          ax=ax3)\n",
    "fig.suptitle('Trends for item: FOODS_3_090_CA_3',\n",
    "             size=20,\n",
    "             y=1.1)\n",
    "plt.tight_layout()\n",
    "plt.show()"
   ]
  },
  {
   "cell_type": "markdown",
   "metadata": {},
   "source": [
    "# Lets look at a lot of different items!\n",
    "- Lets put it all together to plot 20 different items and their sales\n",
    "- Some observations from these plots:\n",
    "    - It is common to see an item unavailable for a period of time.\n",
    "    - Some items only sell 1 or less in a day, making it very hard to predict.\n",
    "    - Other items show spikes in their demand (super bowl sunday?) possibly the \"events\" provided to us could help with these."
   ]
  },
  {
   "cell_type": "code",
   "execution_count": null,
   "metadata": {
    "_kg_hide-input": true
   },
   "outputs": [],
   "source": [
    "twenty_examples = stv.sample(20, random_state=529) \\\n",
    "        .set_index('id')[d_cols] \\\n",
    "    .T \\\n",
    "    .merge(cal.set_index('d')['date'],\n",
    "           left_index=True,\n",
    "           right_index=True,\n",
    "            validate='1:1') \\\n",
    "    .set_index('date')"
   ]
  },
  {
   "cell_type": "code",
   "execution_count": null,
   "metadata": {
    "_kg_hide-input": true
   },
   "outputs": [],
   "source": [
    "fig, axs = plt.subplots(10, 2, figsize=(15, 20))\n",
    "axs = axs.flatten()\n",
    "ax_idx = 0\n",
    "for item in twenty_examples.columns:\n",
    "    twenty_examples[item].plot(title=item,\n",
    "                              color=next(color_cycle),\n",
    "                              ax=axs[ax_idx])\n",
    "    ax_idx += 1\n",
    "plt.tight_layout()\n",
    "plt.show()"
   ]
  },
  {
   "cell_type": "markdown",
   "metadata": {},
   "source": [
    "# Combined Sales over Time by Type\n",
    "- We have several item types:\n",
    "    - Hobbies\n",
    "    - Household\n",
    "    - Foods\n",
    "- Lets plot the total demand over time for each type"
   ]
  },
  {
   "cell_type": "code",
   "execution_count": null,
   "metadata": {
    "_kg_hide-input": true
   },
   "outputs": [],
   "source": [
    "stv['cat_id'].unique()"
   ]
  },
  {
   "cell_type": "code",
   "execution_count": null,
   "metadata": {
    "_kg_hide-input": true
   },
   "outputs": [],
   "source": [
    "stv.groupby('cat_id').count()['id'] \\\n",
    "    .sort_values() \\\n",
    "    .plot(kind='barh', figsize=(15, 5), title='Count of Items by Category')\n",
    "plt.show()"
   ]
  },
  {
   "cell_type": "code",
   "execution_count": null,
   "metadata": {
    "_kg_hide-input": true
   },
   "outputs": [],
   "source": [
    "past_sales = stv.set_index('id')[d_cols] \\\n",
    "    .T \\\n",
    "    .merge(cal.set_index('d')['date'],\n",
    "           left_index=True,\n",
    "           right_index=True,\n",
    "            validate='1:1') \\\n",
    "    .set_index('date')\n",
    "\n",
    "\n",
    "for i in stv['cat_id'].unique():\n",
    "    items_col = [c for c in past_sales.columns if i in c]\n",
    "    past_sales[items_col] \\\n",
    "        .sum(axis=1) \\\n",
    "        .plot(figsize=(15, 5),\n",
    "              alpha=0.8,\n",
    "              title='Total Sales by Item Type')\n",
    "plt.legend(stv['cat_id'].unique())\n",
    "plt.show()"
   ]
  },
  {
   "cell_type": "markdown",
   "metadata": {},
   "source": [
    "# Sales by Store\n",
    "We are provided data for 10 unique stores. What are the total sales by stores?\n",
    "- Note that some stores are more steady than others.\n",
    "- CA_2 seems to have a big change occur in 2015"
   ]
  },
  {
   "cell_type": "code",
   "execution_count": null,
   "metadata": {
    "_kg_hide-input": true
   },
   "outputs": [],
   "source": [
    "store_list = sellp['store_id'].unique()\n",
    "for s in store_list:\n",
    "    store_items = [c for c in past_sales.columns if s in c]\n",
    "    past_sales[store_items] \\\n",
    "        .sum(axis=1) \\\n",
    "        .rolling(90).mean() \\\n",
    "        .plot(figsize=(15, 5),\n",
    "              alpha=0.8,\n",
    "              title='Rolling 90 Day Average Total Sales (10 stores)')\n",
    "plt.legend(store_list)\n",
    "plt.show()"
   ]
  },
  {
   "cell_type": "markdown",
   "metadata": {},
   "source": [
    "Looking at the same data a different way, we can plot a rolling 7 day total demand count by store. Note clearly that some stores have abrupt changes in their demand, it could be that the store expanded or a new competitor was built near by. Either way this is imporant to note when creating predictive models about demand pattern. "
   ]
  },
  {
   "cell_type": "code",
   "execution_count": null,
   "metadata": {
    "_kg_hide-input": true
   },
   "outputs": [],
   "source": [
    "fig, axes = plt.subplots(5, 2, figsize=(15, 10), sharex=True)\n",
    "axes = axes.flatten()\n",
    "ax_idx = 0\n",
    "for s in store_list:\n",
    "    store_items = [c for c in past_sales.columns if s in c]\n",
    "    past_sales[store_items] \\\n",
    "        .sum(axis=1) \\\n",
    "        .rolling(7).mean() \\\n",
    "        .plot(alpha=1,\n",
    "              ax=axes[ax_idx],\n",
    "              title=s,\n",
    "              lw=3,\n",
    "              color=next(color_cycle))\n",
    "    ax_idx += 1\n",
    "# plt.legend(store_list)\n",
    "plt.suptitle('Weekly Sale Trends by Store ID')\n",
    "plt.tight_layout()\n",
    "plt.show()"
   ]
  },
  {
   "cell_type": "markdown",
   "metadata": {},
   "source": [
    "# Sales Heatmap Calendar"
   ]
  },
  {
   "cell_type": "code",
   "execution_count": null,
   "metadata": {
    "_kg_hide-input": true
   },
   "outputs": [],
   "source": [
    "# ----------------------------------------------------------------------------\n",
    "# Author:  Nicolas P. Rougier\n",
    "# License: BSD\n",
    "# ----------------------------------------------------------------------------\n",
    "import numpy as np\n",
    "import matplotlib.pyplot as plt\n",
    "from matplotlib.patches import Polygon\n",
    "from datetime import datetime\n",
    "from dateutil.relativedelta import relativedelta\n",
    "\n",
    "\n",
    "def calmap(ax, year, data):\n",
    "    ax.tick_params('x', length=0, labelsize=\"medium\", which='major')\n",
    "    ax.tick_params('y', length=0, labelsize=\"x-small\", which='major')\n",
    "\n",
    "    # Month borders\n",
    "    xticks, labels = [], []\n",
    "    start = datetime(year,1,1).weekday()\n",
    "    for month in range(1,13):\n",
    "        first = datetime(year, month, 1)\n",
    "        last = first + relativedelta(months=1, days=-1)\n",
    "\n",
    "        y0 = first.weekday()\n",
    "        y1 = last.weekday()\n",
    "        x0 = (int(first.strftime(\"%j\"))+start-1)//7\n",
    "        x1 = (int(last.strftime(\"%j\"))+start-1)//7\n",
    "\n",
    "        P = [ (x0,   y0), (x0,    7),  (x1,   7),\n",
    "              (x1,   y1+1), (x1+1,  y1+1), (x1+1, 0),\n",
    "              (x0+1,  0), (x0+1,  y0) ]\n",
    "        xticks.append(x0 +(x1-x0+1)/2)\n",
    "        labels.append(first.strftime(\"%b\"))\n",
    "        poly = Polygon(P, edgecolor=\"black\", facecolor=\"None\",\n",
    "                       linewidth=1, zorder=20, clip_on=False)\n",
    "        ax.add_artist(poly)\n",
    "    \n",
    "    ax.set_xticks(xticks)\n",
    "    ax.set_xticklabels(labels)\n",
    "    ax.set_yticks(0.5 + np.arange(7))\n",
    "    ax.set_yticklabels([\"Mon\", \"Tue\", \"Wed\", \"Thu\", \"Fri\", \"Sat\", \"Sun\"])\n",
    "    ax.set_title(\"{}\".format(year), weight=\"semibold\")\n",
    "    \n",
    "    # Clearing first and last day from the data\n",
    "    valid = datetime(year, 1, 1).weekday()\n",
    "    data[:valid,0] = np.nan\n",
    "    valid = datetime(year, 12, 31).weekday()\n",
    "    # data[:,x1+1:] = np.nan\n",
    "    data[valid+1:,x1] = np.nan\n",
    "\n",
    "    # Showing data\n",
    "    ax.imshow(data, extent=[0,53,0,7], zorder=10, vmin=-1, vmax=1,\n",
    "              cmap=\"RdYlBu_r\", origin=\"lower\", alpha=.75)"
   ]
  },
  {
   "cell_type": "markdown",
   "metadata": {},
   "source": [
    "It appears that walmarts are closed on Chirstmas day. The highest demand day of all the data was on Sunday March 6th, 2016. What happened on this day you may ask... well the [Seventh Democratic presidential candidates debate hosted by CNN and held in Flint, Michigan](https://www.onthisday.com/date/2016/march/6)... I doubt that impacted sales though :D"
   ]
  },
  {
   "cell_type": "code",
   "execution_count": null,
   "metadata": {},
   "outputs": [],
   "source": [
    "print('The lowest sale date was:', past_sales.sum(axis=1).sort_values().index[0])\n",
    "print('The highest sale date was:', past_sales.sum(axis=1).sort_values(ascending=False).index[0])"
   ]
  },
  {
   "cell_type": "code",
   "execution_count": null,
   "metadata": {
    "_kg_hide-input": true
   },
   "outputs": [],
   "source": [
    "from sklearn.preprocessing import StandardScaler\n",
    "sscale = StandardScaler()\n",
    "past_sales.index = pd.to_datetime(past_sales.index)\n",
    "for i in stv['cat_id'].unique():\n",
    "    fig, axes = plt.subplots(3, 1, figsize=(20, 8))\n",
    "    items_col = [c for c in past_sales.columns if i in c]\n",
    "    sales2013 = past_sales.loc[past_sales.index.isin(pd.date_range('31-Dec-2012',\n",
    "                                                                   periods=371))][items_col].mean(axis=1)\n",
    "    vals = np.hstack(sscale.fit_transform(sales2013.values.reshape(-1, 1)))\n",
    "    calmap(axes[0], 2013, vals.reshape(53,7).T)\n",
    "    sales2014 = past_sales.loc[past_sales.index.isin(pd.date_range('30-Dec-2013',\n",
    "                                                                   periods=371))][items_col].mean(axis=1)\n",
    "    vals = np.hstack(sscale.fit_transform(sales2014.values.reshape(-1, 1)))\n",
    "    calmap(axes[1], 2014, vals.reshape(53,7).T)\n",
    "    sales2015 = past_sales.loc[past_sales.index.isin(pd.date_range('29-Dec-2014',\n",
    "                                                                   periods=371))][items_col].mean(axis=1)\n",
    "    vals = np.hstack(sscale.fit_transform(sales2015.values.reshape(-1, 1)))\n",
    "    calmap(axes[2], 2015, vals.reshape(53,7).T)\n",
    "    plt.suptitle(i, fontsize=15, x=0.3, y=0.98)\n",
    "    plt.tight_layout()\n",
    "    plt.show()"
   ]
  },
  {
   "cell_type": "markdown",
   "metadata": {},
   "source": [
    "Some interesting things to note from these heatmaps:\n",
    "- Food tends to have lower number of purchases as the month goes on. Could this be because people get their paychecks early in the month?\n",
    "- Household and Hobby items sell much less in January - after the Holiday season is over.\n",
    "- Cleary weekends are more popular shopping days regardless of the item category."
   ]
  },
  {
   "cell_type": "markdown",
   "metadata": {},
   "source": [
    "# Sale Prices\n",
    "We are given historical sale prices of each item. Lets take a look at our example item from before.\n",
    "- It looks to me like the price of this item is growing.\n",
    "- Different stores have different selling prices."
   ]
  },
  {
   "cell_type": "code",
   "execution_count": null,
   "metadata": {
    "_kg_hide-input": true
   },
   "outputs": [],
   "source": [
    "fig, ax = plt.subplots(figsize=(15, 5))\n",
    "stores = []\n",
    "for store, d in sellp.query('item_id == \"FOODS_3_090\"').groupby('store_id'):\n",
    "    d.plot(x='wm_yr_wk',\n",
    "          y='sell_price',\n",
    "          style='.',\n",
    "          color=next(color_cycle),\n",
    "          figsize=(15, 5),\n",
    "          title='FOODS_3_090 sale price over time',\n",
    "         ax=ax,\n",
    "          legend=store)\n",
    "    stores.append(store)\n",
    "    plt.legend()\n",
    "plt.legend(stores)\n",
    "plt.show()"
   ]
  },
  {
   "cell_type": "code",
   "execution_count": null,
   "metadata": {
    "_kg_hide-input": true
   },
   "outputs": [],
   "source": [
    "sellp['Category'] = sellp['item_id'].str.split('_', expand=True)[0]\n",
    "fig, axs = plt.subplots(1, 3, figsize=(15, 4))\n",
    "i = 0\n",
    "for cat, d in sellp.groupby('Category'):\n",
    "    ax = d['sell_price'].apply(np.log1p) \\\n",
    "        .plot(kind='hist',\n",
    "                         bins=20,\n",
    "                         title=f'Distribution of {cat} prices',\n",
    "                         ax=axs[i],\n",
    "                                         color=next(color_cycle))\n",
    "    ax.set_xlabel('Log(price)')\n",
    "    i += 1\n",
    "plt.tight_layout()"
   ]
  },
  {
   "cell_type": "markdown",
   "metadata": {},
   "source": [
    "# A simple submission\n",
    "- Submit the average value from the past 30 days"
   ]
  },
  {
   "cell_type": "code",
   "execution_count": null,
   "metadata": {},
   "outputs": [],
   "source": [
    "thirty_day_avg_map = stv.set_index('id')[d_cols[-30:]].mean(axis=1).to_dict()\n",
    "fcols = [f for f in ss.columns if 'F' in f]\n",
    "for f in fcols:\n",
    "    ss[f] = ss['id'].map(thirty_day_avg_map).fillna(0)\n",
    "    \n",
    "ss.to_csv('submission.csv', index=False)"
   ]
  },
  {
   "cell_type": "markdown",
   "metadata": {},
   "source": [
    "## TODO\n",
    "- Simple prediction based on historical average sale by day of week\n",
    "- Facebook prophet model\n",
    "- lgbm/xgb model based on day features"
   ]
  }
 ],
 "metadata": {
  "kernelspec": {
   "display_name": "Python 3",
   "language": "python",
   "name": "python3"
  },
  "language_info": {
   "codemirror_mode": {
    "name": "ipython",
    "version": 3
   },
   "file_extension": ".py",
   "mimetype": "text/x-python",
   "name": "python",
   "nbconvert_exporter": "python",
   "pygments_lexer": "ipython3",
   "version": "3.7.3"
  }
 },
 "nbformat": 4,
 "nbformat_minor": 4
}
